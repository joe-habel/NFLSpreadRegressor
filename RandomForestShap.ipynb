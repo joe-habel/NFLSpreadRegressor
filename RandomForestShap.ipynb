{
 "cells": [
  {
   "cell_type": "code",
   "execution_count": null,
   "metadata": {},
   "outputs": [],
   "source": [
    "from sklearn.model_selection import train_test_split\n",
    "from sklearn.ensemble import RandomForestRegressor\n",
    "import matplotlib.pyplot as plt\n",
    "import numpy as np\n",
    "import pandas as pd\n",
    "from numba import jit\n",
    "import pickle\n",
    "import shap\n",
    "\n",
    "\"\"\"\n",
    "We'll load in the model we want to plot here.\n",
    "\"\"\"\n",
    "def load_model(model):\n",
    "    with open('Model Results/RF/%s.pkl'%model,'rb') as pkl_file:\n",
    "        base = pickle.load(pkl_file)\n",
    "    return base\n",
    "\n",
    "\"\"\"\n",
    "We'll load in the data we want to compare the plot to here. \n",
    "This data should have been saved while training and generating \n",
    "a random forest model.\n",
    "\"\"\"\n",
    "def load_data(data_file):\n",
    "    with open('Model Results/RF/%s.pkl'%data_file ,'rb') as pkl_file:\n",
    "        data = pickle.load(pkl_file)\n",
    "    X,Y = data\n",
    "    X_train, X_test, Y_train, Y_test = X,Y\n",
    "    return X_train, X_test, Y_train, Y_test\n",
    "\n",
    "\"\"\"\n",
    "This will plot a force plot. A force plot is an interactive two dimensional plot that let's \n",
    "us see why each prediction was made the way it was.\n",
    "\n",
    "This plot can be just as easily plotted for a single prediction instead of for the entire dataset.\n",
    "You can simply call shap_vales[n,:], X[n,:], for the nth prediction you want to see.\n",
    "The larger the value the larger the influence it has on the prediction. Red values increase the prediction \n",
    "value while blue values decrease the prediction value.\n",
    "\"\"\"\n",
    "def get_force_plot(model,X):\n",
    "    shap.initjs()\n",
    "    explainer = shap.TreeExplainer(model)\n",
    "    shap_values = explainer.shap_values(X)\n",
    "    display(shap.force_plot(explainer.expected_value, shap_values, X))\n",
    "    \n",
    "\n",
    "base = load_model('rf')\n",
    "X_train,X_test,Y_train,Y_test = load_data('data.pkl')\n",
    "get_force_plot(base,X_test)\n",
    "\n"
   ]
  },
  {
   "cell_type": "code",
   "execution_count": null,
   "metadata": {},
   "outputs": [],
   "source": []
  },
  {
   "cell_type": "code",
   "execution_count": null,
   "metadata": {},
   "outputs": [],
   "source": []
  }
 ],
 "metadata": {
  "kernelspec": {
   "display_name": "Python 3",
   "language": "python",
   "name": "python3"
  },
  "language_info": {
   "codemirror_mode": {
    "name": "ipython",
    "version": 3
   },
   "file_extension": ".py",
   "mimetype": "text/x-python",
   "name": "python",
   "nbconvert_exporter": "python",
   "pygments_lexer": "ipython3",
   "version": "3.5.4"
  }
 },
 "nbformat": 4,
 "nbformat_minor": 2
}
